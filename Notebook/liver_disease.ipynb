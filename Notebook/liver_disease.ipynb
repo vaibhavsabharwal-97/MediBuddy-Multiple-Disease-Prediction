{
 "cells": [
  {
   "cell_type": "code",
   "execution_count": 146,
   "metadata": {
    "_cell_guid": "b1076dfc-b9ad-4769-8c92-a6c4dae69d19",
    "_uuid": "8f2839f25d086af736a60e9eeb907d3b93b6e0e5",
    "papermill": {
     "duration": 1.410514,
     "end_time": "2020-12-08T18:03:02.993933",
     "exception": false,
     "start_time": "2020-12-08T18:03:01.583419",
     "status": "completed"
    },
    "tags": []
   },
   "source": [
    "# This Python 3 environment comes with many helpful analytics libraries installed\n",
    "# It is defined by the kaggle/python Docker image: https://github.com/kaggle/docker-python\n",
    "# For example, here's several helpful packages to load\n",
    "\n",
    "import numpy as np # linear algebra\n",
    "import pandas as pd # data processing, CSV file I/O (e.g. pd.read_csv)\n",
    "\n",
    "# Input data files are available in the read-only \"../input/\" directory\n",
    "# For example, running this (by clicking run or pressing Shift+Enter) will list all files under the input directory\n",
    "\n",
    "import os\n",
    "for dirname, _, filenames in os.walk('/kaggle/input'):\n",
    "    for filename in filenames:\n",
    "        print(os.path.join(dirname, filename))\n",
    "\n",
    "# You can write up to 20GB to the current directory (/kaggle/working/) that gets preserved as output when you create a version using \"Save & Run All\" \n",
    "# You can also write temporary files to /kaggle/temp/, but they won't be saved outside of the current session\n",
    "\n",
    "from matplotlib import pyplot as plt\n",
    "from matplotlib.colors import ListedColormap\n",
    "from xgboost import XGBClassifier\n",
    "from xgboost import plot_importance\n",
    "import seaborn as sns\n",
    "from sklearn.model_selection import train_test_split\n",
    "from sklearn.preprocessing import StandardScaler\n",
    "from sklearn.svm import SVC\n",
    "from sklearn.metrics import confusion_matrix,classification_report\n",
    "from sklearn.model_selection import cross_val_score, GridSearchCV\n",
    "from sklearn import svm\n",
    "\n",
    "from sklearn.metrics import accuracy_score\n",
    "from sklearn.model_selection import train_test_split"
   ],
   "outputs": []
  },
  {
   "cell_type": "code",
   "execution_count": 147,
   "metadata": {
    "_cell_guid": "79c7e3d0-c299-4dcb-8224-4455121ee9b0",
    "_uuid": "d629ff2d2480ee46fbb7e2d37f6b5fab8052498a",
    "papermill": {
     "duration": 0.095912,
     "end_time": "2020-12-08T18:03:03.105791",
     "exception": false,
     "start_time": "2020-12-08T18:03:03.009879",
     "status": "completed"
    },
    "tags": []
   },
   "source": [
    "df = pd.read_csv('Liver Patient Dataset (LPD)_train.csv', encoding= 'unicode_escape')\n",
    "df"
   ],
   "outputs": []
  },
  {
   "cell_type": "code",
   "execution_count": 148,
   "metadata": {
    "papermill": {
     "duration": 0.074214,
     "end_time": "2020-12-08T18:03:03.198259",
     "exception": false,
     "start_time": "2020-12-08T18:03:03.124045",
     "status": "completed"
    },
    "tags": []
   },
   "source": [
    "df.describe()"
   ],
   "outputs": []
  },
  {
   "cell_type": "code",
   "execution_count": 149,
   "metadata": {
    "papermill": {
     "duration": 0.041286,
     "end_time": "2020-12-08T18:03:03.258304",
     "exception": false,
     "start_time": "2020-12-08T18:03:03.217018",
     "status": "completed"
    },
    "tags": []
   },
   "source": [
    "df.head()"
   ],
   "outputs": []
  },
  {
   "cell_type": "code",
   "execution_count": 150,
   "metadata": {
    "papermill": {
     "duration": 0.028447,
     "end_time": "2020-12-08T18:03:03.305795",
     "exception": false,
     "start_time": "2020-12-08T18:03:03.277348",
     "status": "completed"
    },
    "tags": []
   },
   "source": [
    "df.shape"
   ],
   "outputs": []
  },
  {
   "cell_type": "code",
   "execution_count": 151,
   "metadata": {},
   "source": [
    "df = df.drop(columns=['Gender of the patient'])\n"
   ],
   "outputs": []
  },
  {
   "cell_type": "code",
   "execution_count": 152,
   "metadata": {
    "papermill": {
     "duration": 0.051089,
     "end_time": "2020-12-08T18:03:03.376132",
     "exception": false,
     "start_time": "2020-12-08T18:03:03.325043",
     "status": "completed"
    },
    "tags": []
   },
   "source": [
    "df.corr()"
   ],
   "outputs": []
  },
  {
   "cell_type": "code",
   "execution_count": 153,
   "metadata": {
    "papermill": {
     "duration": 0.881302,
     "end_time": "2020-12-08T18:03:04.279207",
     "exception": false,
     "start_time": "2020-12-08T18:03:03.397905",
     "status": "completed"
    },
    "tags": []
   },
   "source": [
    "plt.subplots(figsize=(10,10))\n",
    "sns.heatmap(df.corr(),linewidths=0.5,linecolor='black',vmax=1.0,square=True,cmap=\"Spectral\",annot=True)\n",
    "plt.title('Liver Disease Correlations')\n",
    "plt.show()"
   ],
   "outputs": []
  },
  {
   "cell_type": "code",
   "execution_count": 154,
   "metadata": {
    "papermill": {
     "duration": 0.086403,
     "end_time": "2020-12-08T18:03:04.434335",
     "exception": false,
     "start_time": "2020-12-08T18:03:04.347932",
     "status": "completed"
    },
    "tags": []
   },
   "source": [
    "df = df.drop_duplicates()\n",
    "df.shape"
   ],
   "outputs": []
  },
  {
   "cell_type": "code",
   "execution_count": 155,
   "metadata": {
    "papermill": {
     "duration": 0.056473,
     "end_time": "2020-12-08T18:03:04.529476",
     "exception": false,
     "start_time": "2020-12-08T18:03:04.473003",
     "status": "completed"
    },
    "tags": []
   },
   "source": [
    "df.isnull().values.any()"
   ],
   "outputs": []
  },
  {
   "cell_type": "code",
   "execution_count": 156,
   "metadata": {
    "papermill": {
     "duration": 0.177782,
     "end_time": "2020-12-08T18:03:04.746626",
     "exception": false,
     "start_time": "2020-12-08T18:03:04.568844",
     "status": "completed"
    },
    "tags": []
   },
   "source": [
    "df=df.dropna(how='any')\n",
    "df.shape"
   ],
   "outputs": []
  },
  {
   "cell_type": "code",
   "execution_count": 157,
   "metadata": {
    "papermill": {
     "duration": 2.065573,
     "end_time": "2020-12-08T18:03:06.852471",
     "exception": false,
     "start_time": "2020-12-08T18:03:04.786898",
     "status": "completed"
    },
    "tags": []
   },
   "source": [
    "df.hist(figsize=(15,15), xrot=-45, bins=10)\n",
    "plt.show()"
   ],
   "outputs": []
  },
  {
   "cell_type": "code",
   "execution_count": 158,
   "metadata": {
    "papermill": {
     "duration": 0.071433,
     "end_time": "2020-12-08T18:03:06.963061",
     "exception": false,
     "start_time": "2020-12-08T18:03:06.891628",
     "status": "completed"
    },
    "tags": []
   },
   "source": [
    "df.isna().sum()"
   ],
   "outputs": []
  },
  {
   "cell_type": "code",
   "execution_count": 159,
   "metadata": {
    "papermill": {
     "duration": 0.054086,
     "end_time": "2020-12-08T18:03:07.056967",
     "exception": false,
     "start_time": "2020-12-08T18:03:07.002881",
     "status": "completed"
    },
    "tags": []
   },
   "source": [
    "params_grid = [{'kernel': ['rbf'], 'gamma': [1e-3, 1e-4],\n",
    "                     'C': [1, 10, 100, 1000]},\n",
    "                    {'kernel': ['linear'], 'C': [1, 10, 100, 1000]}]"
   ],
   "outputs": []
  },
  {
   "cell_type": "code",
   "execution_count": 160,
   "metadata": {
    "papermill": {
     "duration": 0.061889,
     "end_time": "2020-12-08T18:03:07.152740",
     "exception": false,
     "start_time": "2020-12-08T18:03:07.090851",
     "status": "completed"
    },
    "tags": []
   },
   "source": [
    "#df_1 = df.drop(['Gender of the patient'],axis=1)\n",
    "df_1=df"
   ],
   "outputs": []
  },
  {
   "cell_type": "code",
   "execution_count": 161,
   "metadata": {},
   "source": [
    "df_1['Result'] = df_1['Result'].replace({1: 1, 2: 0})"
   ],
   "outputs": []
  },
  {
   "cell_type": "code",
   "execution_count": 162,
   "metadata": {},
   "source": [
    "df_1.head(10)"
   ],
   "outputs": []
  },
  {
   "cell_type": "code",
   "execution_count": 163,
   "metadata": {},
   "source": [
    "df_1 = df_1.drop(columns=['Result'])"
   ],
   "outputs": []
  },
  {
   "cell_type": "code",
   "execution_count": 164,
   "metadata": {
    "papermill": {
     "duration": 0.046899,
     "end_time": "2020-12-08T18:03:07.239390",
     "exception": false,
     "start_time": "2020-12-08T18:03:07.192491",
     "status": "completed"
    },
    "tags": []
   },
   "source": [
    "X = df_1\n",
    "Y = df['Result']\n",
    "X_train, X_test, Y_train, Y_test = train_test_split(X, Y, test_size = 0.3, random_state = 99)\n",
    "sc = StandardScaler()\n"
   ],
   "outputs": []
  },
  {
   "cell_type": "code",
   "execution_count": 165,
   "metadata": {},
   "source": [
    "X.head()"
   ],
   "outputs": []
  },
  {
   "cell_type": "code",
   "execution_count": 166,
   "metadata": {
    "papermill": {
     "duration": 0.059348,
     "end_time": "2020-12-08T18:03:07.411264",
     "exception": false,
     "start_time": "2020-12-08T18:03:07.351916",
     "status": "completed"
    },
    "tags": []
   },
   "source": [
    "X_train = sc.fit_transform(X_train)\n",
    "X_test = sc.transform(X_test)\n"
   ],
   "outputs": []
  },
  {
   "cell_type": "code",
   "execution_count": 167,
   "metadata": {
    "papermill": {
     "duration": 0.052927,
     "end_time": "2020-12-08T18:03:07.503053",
     "exception": false,
     "start_time": "2020-12-08T18:03:07.450126",
     "status": "completed"
    },
    "tags": []
   },
   "source": [
    "#svm_model = GridSearchCV(SVC(kernel=\"rbf\", probability=True, C=0.1, gamma=0.001),params_grid,cv=5)\n",
    "#svm_model.fit(X_train, Y_train)\n",
    "#svm_model.fit(X_train,Y_train)"
   ],
   "outputs": []
  },
  {
   "cell_type": "code",
   "execution_count": 168,
   "metadata": {
    "papermill": {
     "duration": 1.630292,
     "end_time": "2020-12-08T18:03:09.179140",
     "exception": false,
     "start_time": "2020-12-08T18:03:07.548848",
     "status": "completed"
    },
    "tags": []
   },
   "source": [
    "svm_model = svm.SVC(kernel='linear')\n",
    "svm_model.fit(X_train, Y_train)\n",
    "svm_model.fit(X_train,Y_train)"
   ],
   "outputs": []
  },
  {
   "cell_type": "code",
   "execution_count": 169,
   "metadata": {
    "papermill": {
     "duration": 0.257002,
     "end_time": "2020-12-08T18:03:09.462563",
     "exception": false,
     "start_time": "2020-12-08T18:03:09.205561",
     "status": "completed"
    },
    "tags": []
   },
   "source": [
    "Y_predict = svm_model.predict(X_test)\n",
    "cm = confusion_matrix(Y_test,Y_predict)\n",
    "print(\"Confusion Matrix is :\", cm)\n",
    "\n"
   ],
   "outputs": []
  },
  {
   "cell_type": "code",
   "execution_count": 170,
   "metadata": {
    "papermill": {
     "duration": 0.038464,
     "end_time": "2020-12-08T18:03:09.528953",
     "exception": false,
     "start_time": "2020-12-08T18:03:09.490489",
     "status": "completed"
    },
    "tags": []
   },
   "source": [
    "accuracy = accuracy_score(Y_test,Y_predict)\n",
    "print(\"Accuracy: %.2f%%\" % (accuracy * 100.0))"
   ],
   "outputs": []
  },
  {
   "cell_type": "code",
   "execution_count": 171,
   "metadata": {},
   "source": [
    "import pickle\n",
    "# Save the model to a .pkl file\n",
    "liver = 'liver_disease_model.pkl'\n",
    "with open(liver, 'wb') as file:\n",
    "    pickle.dump(svm_model, file)\n",
    "\n",
    "print(f\"Model saved to {liver}\")"
   ],
   "outputs": []
  },
  {
   "cell_type": "code",
   "execution_count": null,
   "metadata": {},
   "source": [],
   "outputs": []
  }
 ],
 "metadata": {
  "kernelspec": {
   "display_name": "Python 3 (ipykernel)",
   "language": "python",
   "name": "python3"
  },
  "language_info": {
   "codemirror_mode": {
    "name": "ipython",
    "version": 3
   },
   "file_extension": ".py",
   "mimetype": "text/x-python",
   "name": "python",
   "nbconvert_exporter": "python",
   "pygments_lexer": "ipython3",
   "version": "3.11.3"
  },
  "papermill": {
   "duration": 12.629555,
   "end_time": "2020-12-08T18:03:09.664705",
   "environment_variables": {},
   "exception": null,
   "input_path": "__notebook__.ipynb",
   "output_path": "__notebook__.ipynb",
   "parameters": {},
   "start_time": "2020-12-08T18:02:57.035150",
   "version": "2.1.0"
  }
 },
 "nbformat": 4,
 "nbformat_minor": 4
}
