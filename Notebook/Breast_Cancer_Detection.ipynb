{
 "cells": [
  {
   "cell_type": "markdown",
   "metadata": {
    "id": "-VQuYawilqjg"
   },
   "source": [
    "# Breast Cancer Detection \n",
    "\n"
   ]
  },
  {
   "cell_type": "markdown",
   "metadata": {
    "id": "zz6sSRsClqjq"
   },
   "source": [
    "### Import ML packages"
   ]
  },
  {
   "cell_type": "code",
   "execution_count": 1,
   "metadata": {
    "id": "jW9jWPyIlqjq"
   },
   "source": [
    "import numpy as np\n",
    "import pandas as pd\n",
    "import matplotlib.pyplot as plt\n",
    "from sklearn.metrics import classification_report\n",
    "from sklearn.metrics import accuracy_score\n",
    "from sklearn.metrics import confusion_matrix\n",
    "from sklearn.model_selection import train_test_split\n",
    "from sklearn.model_selection import cross_val_score\n",
    "from sklearn.model_selection import KFold\n",
    "from sklearn.tree import DecisionTreeClassifier\n",
    "from sklearn.neighbors import KNeighborsClassifier\n",
    "from sklearn.naive_bayes import GaussianNB\n",
    "from sklearn.pipeline import Pipeline\n",
    "from sklearn.preprocessing import StandardScaler\n",
    "from sklearn.model_selection import GridSearchCV\n",
    "from sklearn.svm import SVC\n",
    "from pandas.plotting import scatter_matrix\n",
    "import seaborn as sns\n",
    "\n",
    "%matplotlib inline"
   ],
   "outputs": []
  },
  {
   "cell_type": "markdown",
   "metadata": {
    "id": "QDX74D5plqjr"
   },
   "source": [
    "### Load and Read Dataset"
   ]
  },
  {
   "cell_type": "code",
   "execution_count": 3,
   "metadata": {
    "colab": {
     "base_uri": "https://localhost:8080/",
     "height": 234
    },
    "id": "oBfAI0Galqjr",
    "outputId": "2657c3f5-0bff-4487-ba36-aa6d37ee926a"
   },
   "source": [
    "# Load Dataset\n",
    "url = \"https://archive.ics.uci.edu/ml/machine-learning-databases/breast-cancer-wisconsin/breast-cancer-wisconsin.data\"\n",
    "names = ['id', 'clump_thickness', 'uniform_cell_size', 'uniform_cell_shape',\n",
    "       'marginal_adhesion', 'single_epithelial_size', 'bare_nuclei',\n",
    "       'bland_chromatin', 'normal_nucleoli', 'mitoses', 'class']\n",
    "df = pd.read_csv(url, names=names)"
   ],
   "outputs": []
  },
  {
   "cell_type": "code",
   "execution_count": 4,
   "metadata": {},
   "source": [
    "df.head()"
   ],
   "outputs": []
  },
  {
   "cell_type": "code",
   "execution_count": 5,
   "metadata": {
    "colab": {
     "base_uri": "https://localhost:8080/"
    },
    "id": "tncPwvHrlqjs",
    "outputId": "75bbb4ee-de82-47bc-f2fe-0c0552d57e1d"
   },
   "source": [
    "#Shape of the Dataset\n",
    "df.shape"
   ],
   "outputs": []
  },
  {
   "cell_type": "markdown",
   "metadata": {
    "id": "Qeu90wh3lqjt"
   },
   "source": [
    "## Data pre-processing"
   ]
  },
  {
   "cell_type": "code",
   "execution_count": 6,
   "metadata": {
    "id": "BxPufyE9lqju"
   },
   "source": [
    "df.drop(['id'],axis=1,inplace = True)"
   ],
   "outputs": []
  },
  {
   "cell_type": "code",
   "execution_count": 7,
   "metadata": {
    "colab": {
     "base_uri": "https://localhost:8080/"
    },
    "id": "GiZexybplqju",
    "outputId": "a069d711-1f26-4b1a-f176-7fb7335f3eb4"
   },
   "source": [
    "# Columns in the dataset\n",
    "df.columns"
   ],
   "outputs": []
  },
  {
   "cell_type": "markdown",
   "metadata": {},
   "source": [
    "## Handling missing values"
   ]
  },
  {
   "cell_type": "code",
   "execution_count": 8,
   "metadata": {
    "colab": {
     "base_uri": "https://localhost:8080/"
    },
    "id": "9-dqZ4YPwQyp",
    "outputId": "cca836be-db29-47dd-ce08-2bcd139ad721"
   },
   "source": [
    "df.info()"
   ],
   "outputs": []
  },
  {
   "cell_type": "code",
   "execution_count": 9,
   "metadata": {
    "id": "e1YuW0uauwo9"
   },
   "source": [
    "#Diagnosis class Malignant = 4 and Benign = 2\n",
    "#The number of Benign and Maglinant cases from the dataset\n",
    "df['class'].value_counts()"
   ],
   "outputs": []
  },
  {
   "cell_type": "code",
   "execution_count": 10,
   "metadata": {},
   "source": [
    "df['bare_nuclei'].value_counts()"
   ],
   "outputs": []
  },
  {
   "cell_type": "code",
   "execution_count": 11,
   "metadata": {
    "colab": {
     "base_uri": "https://localhost:8080/"
    },
    "id": "B-dlewjqlqju",
    "outputId": "6edd5f82-7093-4ebd-ece6-2830c02fc3a4",
    "scrolled": false
   },
   "source": [
    "df[df['bare_nuclei'] == '?']"
   ],
   "outputs": []
  },
  {
   "cell_type": "code",
   "execution_count": 12,
   "metadata": {
    "colab": {
     "base_uri": "https://localhost:8080/"
    },
    "id": "fZtWbMEklqjv",
    "outputId": "7145a767-8242-424a-fa0e-2f7222c034ba",
    "scrolled": true
   },
   "source": [
    "df[df['bare_nuclei'] == '?'].sum()"
   ],
   "outputs": []
  },
  {
   "cell_type": "code",
   "execution_count": 13,
   "metadata": {},
   "source": [
    "df.replace('?',np.nan,inplace=True)"
   ],
   "outputs": []
  },
  {
   "cell_type": "code",
   "execution_count": 14,
   "metadata": {},
   "source": [
    "df['bare_nuclei'][23]"
   ],
   "outputs": []
  },
  {
   "cell_type": "code",
   "execution_count": 15,
   "metadata": {
    "scrolled": true
   },
   "source": [
    "df.isna().sum()"
   ],
   "outputs": []
  },
  {
   "cell_type": "code",
   "execution_count": 16,
   "metadata": {},
   "source": [
    "df.fillna(method='ffill', inplace=True)"
   ],
   "outputs": []
  },
  {
   "cell_type": "code",
   "execution_count": 17,
   "metadata": {},
   "source": [
    "df.isna().sum()"
   ],
   "outputs": []
  },
  {
   "cell_type": "code",
   "execution_count": 18,
   "metadata": {},
   "source": [
    "df['bare_nuclei'] = df['bare_nuclei'].astype('int64')"
   ],
   "outputs": []
  },
  {
   "cell_type": "markdown",
   "metadata": {},
   "source": [
    "## Exploratory Data Analysis"
   ]
  },
  {
   "cell_type": "code",
   "execution_count": 19,
   "metadata": {},
   "source": [
    "df.info()"
   ],
   "outputs": []
  },
  {
   "cell_type": "code",
   "execution_count": 20,
   "metadata": {
    "scrolled": true
   },
   "source": [
    "df.describe()"
   ],
   "outputs": []
  },
  {
   "cell_type": "markdown",
   "metadata": {},
   "source": [
    "## Bivariate Data Analysis"
   ]
  },
  {
   "cell_type": "code",
   "execution_count": 21,
   "metadata": {},
   "source": [
    "sns.displot(df['class'],kde=True)"
   ],
   "outputs": []
  },
  {
   "cell_type": "code",
   "execution_count": 22,
   "metadata": {},
   "source": [
    "ax = df[df['class'] == 4][0:50].plot(kind='scatter', x='clump_thickness', y='uniform_cell_size', color='DarkBlue', label='malignant');\n",
    "df[df['class'] == 2][0:50].plot(kind='scatter', x='clump_thickness', y='uniform_cell_size', color='Yellow', label='benign', ax=ax);\n",
    "plt.show()"
   ],
   "outputs": []
  },
  {
   "cell_type": "markdown",
   "metadata": {
    "id": "M92oicuzlqjv"
   },
   "source": [
    "## Multivariate Data Analysis"
   ]
  },
  {
   "cell_type": "code",
   "execution_count": 23,
   "metadata": {
    "colab": {
     "base_uri": "https://localhost:8080/",
     "height": 1000
    },
    "id": "SO_6PLZToi29",
    "outputId": "fc330c5d-f470-4082-d39e-d6680a122486",
    "scrolled": true
   },
   "source": [
    "# Plot histograms for each variable\n",
    "sns.set_style('darkgrid')\n",
    "df.hist(figsize=(30,30))\n",
    "plt.show()"
   ],
   "outputs": []
  },
  {
   "cell_type": "code",
   "execution_count": 24,
   "metadata": {},
   "source": [
    "# Create scatter plot matrix\n",
    "scatter_matrix(df, figsize = (18,18))\n",
    "plt.show()"
   ],
   "outputs": []
  },
  {
   "cell_type": "code",
   "execution_count": 25,
   "metadata": {},
   "source": [
    "plt.figure(figsize=(10,10))\n",
    "sns.boxplot(data=df,orient='h')"
   ],
   "outputs": []
  },
  {
   "cell_type": "markdown",
   "metadata": {
    "id": "lpOMR-Nrp_ML"
   },
   "source": [
    "## Feature selection"
   ]
  },
  {
   "cell_type": "code",
   "execution_count": 26,
   "metadata": {},
   "source": [
    "df.corr()"
   ],
   "outputs": []
  },
  {
   "cell_type": "code",
   "execution_count": 27,
   "metadata": {
    "colab": {
     "base_uri": "https://localhost:8080/",
     "height": 1000
    },
    "id": "qnE-2fw-t9fI",
    "outputId": "c7a10552-ae1e-4b10-fe06-a6335f0252d9",
    "scrolled": true
   },
   "source": [
    "plt.figure(figsize=(30,20))\n",
    "cor = df.corr()\n",
    "sns.heatmap(cor,vmax=1,square = True,annot=True, cmap=plt.cm.Blues)\n",
    "plt.title('Correlation between different attributes')\n",
    "plt.show()"
   ],
   "outputs": []
  },
  {
   "cell_type": "code",
   "execution_count": 28,
   "metadata": {},
   "source": [
    "sns.pairplot(df,diag_kind='kde')"
   ],
   "outputs": []
  },
  {
   "cell_type": "code",
   "execution_count": 29,
   "metadata": {
    "colab": {
     "base_uri": "https://localhost:8080/"
    },
    "id": "yt6-SOpGs03y",
    "outputId": "5d3a7db1-b8d4-437b-f769-38486b364a8e"
   },
   "source": [
    "#Correlation with output variable\n",
    "cor_target = abs(cor[\"class\"])\n",
    "#Selecting highly correlated features\n",
    "relevant_features = cor_target[cor_target>0]\n",
    "relevant_features"
   ],
   "outputs": []
  },
  {
   "cell_type": "markdown",
   "metadata": {
    "id": "dbOrn-Dalqjw"
   },
   "source": [
    "## Train and Test Model"
   ]
  },
  {
   "cell_type": "code",
   "execution_count": 30,
   "metadata": {
    "id": "OSe1GwD-lqjx"
   },
   "source": [
    "#Split the data into predictor variables and target variable, following by breaking them into train and test sets. \n",
    "\n",
    "Y = df['class'].values\n",
    "X = df.drop('class', axis=1).values\n",
    "\n",
    "X_train, X_test, Y_train, Y_test = train_test_split (X, Y, test_size = 0.30, random_state=21)"
   ],
   "outputs": []
  },
  {
   "cell_type": "markdown",
   "metadata": {
    "id": "L7e6nAxK-jc_"
   },
   "source": [
    "## Model Selection\n",
    "### Baseline algorithm checking\n",
    "\n",
    "* Analyse and build a model to predict if a given set of symptoms lead to breast cancer. This is a binary classification problem, and a few algorithms are appropriate for use. \n",
    "\n",
    "* As we do not know which one will perform the best at the point, we will do a quick test on the few appropriate algorithms with default setting to get an early indication of how each of them perform. \n",
    "\n",
    "* We will use 10 fold cross validation for each testing.\n",
    "\n",
    "* The following non-linear algorithms will be used, namely: \n",
    "  * Classification and Regression Trees (CART) \n",
    "  * Linear Support Vector Machines (SVM)\n",
    "  * Gaussian Naive Bayes (NB) \n",
    "  * k-Nearest Neighbors (KNN)."
   ]
  },
  {
   "cell_type": "code",
   "execution_count": 31,
   "metadata": {
    "id": "45_z8lIFBOev"
   },
   "source": [
    "# Testing Options\n",
    "scoring = 'accuracy'"
   ],
   "outputs": []
  },
  {
   "cell_type": "code",
   "execution_count": 32,
   "metadata": {
    "colab": {
     "base_uri": "https://localhost:8080/"
    },
    "id": "moUDWV31lqjx",
    "outputId": "9cfecf60-1819-4fce-bea1-de29157773fa"
   },
   "source": [
    "# Define models to train\n",
    "models= []\n",
    "models.append(('CART', DecisionTreeClassifier()))\n",
    "models.append(('SVM', SVC())) \n",
    "models.append(('NB', GaussianNB()))\n",
    "models.append(('KNN', KNeighborsClassifier()))\n",
    "\n",
    "# evaluate each model in turn\n",
    "results = []\n",
    "names = []\n",
    "\n",
    "for name, model in models:\n",
    "    kfold = KFold(n_splits=10)\n",
    "    cv_results = cross_val_score(model, X_train, Y_train, cv=kfold, scoring=scoring)\n",
    "    results.append(cv_results)\n",
    "    names.append(name)\n",
    "    msg = \"For %s Model:Mean accuracy is %f (Std accuracy is %f)\" % (name, cv_results.mean(), cv_results.std())\n",
    "    print(msg)"
   ],
   "outputs": []
  },
  {
   "cell_type": "code",
   "execution_count": 33,
   "metadata": {
    "colab": {
     "base_uri": "https://localhost:8080/",
     "height": 663
    },
    "id": "D1qD2vurCH2o",
    "outputId": "a01762b9-107a-4265-957b-04a443375c67"
   },
   "source": [
    "fig = plt.figure(figsize=(10,10))\n",
    "fig.suptitle('Performance Comparison')\n",
    "ax = fig.add_subplot(111)\n",
    "plt.boxplot(results)\n",
    "ax.set_xticklabels(names)\n",
    "plt.show()"
   ],
   "outputs": []
  },
  {
   "cell_type": "markdown",
   "metadata": {
    "id": "MVJ2MJEQDIH0"
   },
   "source": [
    "CART, SVM, GaussianNB and KNN  performed the best with  above 95% mean accuracy"
   ]
  },
  {
   "cell_type": "code",
   "execution_count": 34,
   "metadata": {
    "colab": {
     "base_uri": "https://localhost:8080/"
    },
    "id": "VBpHG9_5lqjx",
    "outputId": "af6b0be5-abff-430d-9937-4746c716a446"
   },
   "source": [
    "# Make predictions on validation dataset\n",
    "\n",
    "for name, model in models:\n",
    "    model.fit(X_train, Y_train)\n",
    "    predictions = model.predict(X_test)\n",
    "    print(\"\\nModel:\",name)\n",
    "    print(\"Accuracy score:\",accuracy_score(Y_test, predictions))\n",
    "    print(\"Classification report:\\n\",classification_report(Y_test, predictions))\n",
    "    \n",
    "# Accuracy - ratio of correctly predicted observation to the total observations. \n",
    "# Precision - (false positives) ratio of correctly predicted positive observations to the total predicted positive observations\n",
    "# Recall (Sensitivity) - (false negatives) ratio of correctly predicted positive observations to the all observations in actual class - yes.\n",
    "# F1 score - F1 Score is the weighted average of Precision and Recall. Therefore, this score takes both false positives and false "
   ],
   "outputs": []
  },
  {
   "cell_type": "markdown",
   "metadata": {},
   "source": [
    "## Support Vector Machine"
   ]
  },
  {
   "cell_type": "code",
   "execution_count": 35,
   "metadata": {},
   "source": [
    "clf = SVC()\n",
    "\n",
    "clf.fit(X_train, Y_train)\n",
    "accuracy = clf.score(X_test, Y_test)\n",
    "print(\"Test Accuracy:\",accuracy)\n",
    "\n",
    "predict = clf.predict(X_test)\n",
    "predict"
   ],
   "outputs": []
  },
  {
   "cell_type": "code",
   "execution_count": 36,
   "metadata": {
    "scrolled": true
   },
   "source": [
    "example_measures = [[4,2,1,1,1,2,3,2,1]]\n",
    "prediction = clf.predict(example_measures)\n",
    "print(prediction)"
   ],
   "outputs": []
  },
  {
   "cell_type": "code",
   "execution_count": 37,
   "metadata": {},
   "source": [
    "import itertools\n",
    "sns.set_theme(style=\"dark\")\n",
    "def plot_confusion_matrix(cm, classes, normalize=False,title='Confusion matrix', cmap=plt.cm.Blues):\n",
    "    \"\"\"\n",
    "    This function prints and plots the confusion matrix.\n",
    "    Normalization can be applied by setting `normalize=True`.\n",
    "    \"\"\"\n",
    "    if normalize:\n",
    "        cm = cm.astype('float') / cm.sum(axis=1)[:, np.newaxis]\n",
    "        print(\"Normalized confusion matrix\")\n",
    "    else:\n",
    "        print('Confusion matrix, without normalization')\n",
    "\n",
    "    print(cm)\n",
    "\n",
    "    plt.imshow(cm, interpolation='nearest', cmap=cmap)\n",
    "    plt.title(title)\n",
    "    plt.colorbar()\n",
    "    tick_marks = np.arange(len(classes))\n",
    "    plt.xticks(tick_marks, classes, rotation=45)\n",
    "    plt.yticks(tick_marks, classes)\n",
    "\n",
    "    fmt = '.2f' if normalize else 'd'\n",
    "    thresh = cm.max() / 2.\n",
    "    for i, j in itertools.product(range(cm.shape[0]), range(cm.shape[1])):\n",
    "        plt.text(j, i, format(cm[i, j], fmt),\n",
    "                 horizontalalignment=\"center\",\n",
    "                 color=\"white\" if cm[i, j] > thresh else \"black\")\n",
    "\n",
    "    plt.tight_layout()\n",
    "    plt.ylabel('True label')\n",
    "    plt.xlabel('Predicted label')"
   ],
   "outputs": []
  },
  {
   "cell_type": "code",
   "execution_count": 38,
   "metadata": {},
   "source": [
    "# Compute confusion matrix\n",
    "cnf_matrix = confusion_matrix(Y_test, predict, labels=[2,4])\n",
    "np.set_printoptions(precision=2)\n",
    "\n",
    "print (classification_report(Y_test, predict))\n",
    "\n",
    "# Plot non-normalized confusion matrix\n",
    "plt.figure()\n",
    "plot_confusion_matrix(cnf_matrix, classes=['Benign(2)','Malignant(4)'],normalize= False,  title='Confusion matrix')"
   ],
   "outputs": []
  },
  {
   "cell_type": "code",
   "execution_count": 39,
   "metadata": {},
   "source": [
    "import pickle\n",
    "pickle.dump(clf, open('model.pkl','wb'))\n",
    "\n",
    "model = pickle.load(open('model.pkl','rb'))\n",
    "print(model.predict([[4,2,1,1,1,2,3,2,1]]))"
   ],
   "outputs": []
  },
  {
   "cell_type": "code",
   "execution_count": null,
   "metadata": {},
   "source": [],
   "outputs": []
  }
 ],
 "metadata": {
  "colab": {
   "collapsed_sections": [],
   "name": "Breast Cancer Prediction.ipynb",
   "provenance": []
  },
  "kernelspec": {
   "display_name": "Python 3",
   "language": "python",
   "name": "python3"
  },
  "language_info": {
   "codemirror_mode": {
    "name": "ipython",
    "version": 3
   },
   "file_extension": ".py",
   "mimetype": "text/x-python",
   "name": "python",
   "nbconvert_exporter": "python",
   "pygments_lexer": "ipython3",
   "version": "3.8.0"
  }
 },
 "nbformat": 4,
 "nbformat_minor": 1
}
